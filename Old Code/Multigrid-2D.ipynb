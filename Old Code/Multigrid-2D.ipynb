{
 "cells": [
  {
   "cell_type": "markdown",
   "metadata": {
    "collapsed": true
   },
   "source": [
    "# Geometric Multigrid\n"
   ]
  },
  {
   "cell_type": "code",
   "execution_count": null,
   "metadata": {},
   "outputs": [],
   "source": [
    "%matplotlib notebook\n",
    "import numpy\n",
    "import matplotlib\n",
    "import matplotlib.pyplot as pyplot\n",
    "\n",
    "mx = 17\n",
    "m = mx*mx\n",
    "\n",
    "# phi_i = (1 - 4 (x-xi)^2/2h^2),            xi-1 < x < xi+1, yi-1 < y < yi+1  (odd index)\n",
    "# phi_i = 1 + 3 (x-xi)/2h + 2(x-xi)^2/2h^2, xi-2 < x < xi\n",
    "#         1 - 3 (x-xi)/2h + 2(x-xi)^2/2h^2, xi   < x < xi+2  (even index)\n",
    "\n",
    "# Using product of basis in x and y directions\n",
    "\n",
    "# Solving u_xx + u_yy = 0\n",
    "# Set u = sum(u_ij phi_ij)\n",
    "# Want (u_xx + u_yy, phi_i) = 0\n",
    "# Integration By Parts (u_x, phi_ij_x) = 0, (u_y, phi_ij_y) = 0\n",
    "\n",
    "# A = [ A1 A2\n",
    "#       B2 B1 B2 B3\n",
    "#          A2 A1 A2\n",
    "#          B3 B2 B1 B2 B3\n",
    "#             .. .. .. .. ..\n",
    "#                         A2 A1 ]\n",
    "# A1, A2, B1, B2, B3 matrices of apropiate inner products\n",
    "\n",
    "# Setup A\n",
    "A = numpy.zeros((m, m))\n",
    "\n",
    "# A1\n",
    "A1 = 256/45*numpy.eye(mx) - 16/15*numpy.eye(mx, mx, -1) - 16/15*numpy.eye(mx, mx, 1)\n",
    "for i in range(int(mx/2)):\n",
    "    A1[2*i+1, 2*i+1] = 176/45\n",
    "\n",
    "# A2\n",
    "A2 = -16/15*numpy.eye(mx) - 16/45*numpy.eye(mx, mx, -1) - 16/45*numpy.eye(mx, mx, 1)\n",
    "for i in range(int(mx/2)):\n",
    "    A2[2*i+1, 2*i+1] = -2/5\n",
    "for i in range(int((mx-2)/2)):\n",
    "    A2[2*i+1, 2*i+3] = 1/9\n",
    "    A2[2*i+3, 2*i+1] = 1/9\n",
    "\n",
    "# B1\n",
    "B1 = 176/45*numpy.eye(mx) - 2/5*numpy.eye(mx, mx, -1) - 2/5*numpy.eye(mx, mx, 1)\n",
    "for i in range(int(mx/2)):\n",
    "    B1[2*i+1, 2*i+1] = 112/45\n",
    "for i in range(int((mx-2)/2)):\n",
    "    B1[2*i+1, 2*i+3] = -2/30\n",
    "    B1[2*i+3, 2*i+1] = -2/30\n",
    "\n",
    "# B2\n",
    "B2 = A2\n",
    "\n",
    "# B3\n",
    "B3 = 1/9*numpy.eye(mx, mx, -1) + 1/9*numpy.eye(mx, mx, 1)\n",
    "for i in range(int(mx/2)):\n",
    "    B3[2*i+1, 2*i+1] = -2/30\n",
    "for i in range(int((mx-2)/2)):\n",
    "    B3[2*i+1, 2*i+3] = -1/45\n",
    "    B3[2*i+3, 2*i+1] = -1/45\n",
    "\n",
    "# Build A\n",
    "A[:mx, :mx] = A1\n",
    "for i in range(int(mx/2)):\n",
    "    A[mx*(2*i+1):mx*(2*i+2), mx*(2*i+1):mx*(2*i+2)] = B1\n",
    "    A[mx*(2*i+2):mx*(2*i+3), mx*(2*i+2):mx*(2*i+3)] = A1\n",
    "for i in range(int((mx-1))):\n",
    "    A[mx*i:mx*(i+1), mx*(i+1):mx*(i+2)] = A2\n",
    "    A[mx*(i+1):mx*(i+2), mx*i:mx*(i+1)] = A2\n",
    "for i in range(int((mx-2)/2)):\n",
    "    A[mx*(2*i+1):mx*(2*i+2), mx*(2*i+3):mx*(2*i+4)] = B3\n",
    "    A[mx*(2*i+3):mx*(2*i+4), mx*(2*i+1):mx*(2*i+2)] = B3\n",
    "\n",
    "pyplot.spy(A)\n",
    "\n",
    "I = numpy.eye(m)\n",
    "L, X  = numpy.linalg.eigh(A)\n",
    "\n",
    "from matplotlib import pyplot\n",
    "pyplot.style.use('ggplot')\n",
    "pyplot.figure()\n",
    "pyplot.plot(L, '.')\n",
    "pyplot.show()\n",
    "\n",
    "print(L[:4], L[-4:])\n",
    "print('cond', L[-1]/L[0])"
   ]
  },
  {
   "cell_type": "code",
   "execution_count": null,
   "metadata": {
    "scrolled": false
   },
   "outputs": [],
   "source": [
    "pyplot.figure()\n",
    "my = mx\n",
    "xx, yy = numpy.meshgrid(numpy.linspace(0,1,mx), numpy.linspace(0,1,my))\n",
    "for i in (0,1,2,3):\n",
    "    pyplot.subplot(2,2,1+i)\n",
    "    pyplot.contourf(xx, yy, X[:,i].reshape(mx,my))\n",
    "    pyplot.title('$\\lambda = %f$' % L[i])\n",
    "pyplot.show()"
   ]
  },
  {
   "cell_type": "code",
   "execution_count": null,
   "metadata": {},
   "outputs": [],
   "source": [
    "pyplot.figure()\n",
    "for plotnum,i in enumerate((10,90)):\n",
    "    pyplot.subplot(1,2,1+plotnum)\n",
    "    pyplot.contourf(xx, yy, X[:,i].reshape(mx,my))\n",
    "    pyplot.title('$\\lambda = %f$' % L[i])\n",
    "pyplot.show()"
   ]
  },
  {
   "cell_type": "code",
   "execution_count": null,
   "metadata": {},
   "outputs": [],
   "source": [
    "P = numpy.zeros((m, m))\n",
    "P1 = 1*numpy.eye(mx) + 1/2*numpy.eye(mx, k=1) + 1/2*numpy.eye(mx, k=-1)\n",
    "P2 = 1/2*numpy.eye(mx) + 1/4*numpy.eye(mx, k=1) + 1/4*numpy.eye(mx, k=-1)\n",
    "P = numpy.eye(m) + .5*numpy.eye(m,k=1) + .5*numpy.eye(m,k=-1) + .5*numpy.eye(m, k = mx) + .5*numpy.eye(m, k = -mx)\n",
    "\n",
    "P[:mx, :mx] = P1\n",
    "for i in range(mx-1):\n",
    "    P[mx*(i+1):mx*(i+2), mx*(i+1):mx*(i+2)] = P1\n",
    "    P[mx*(i+1):mx*(i+2), mx*i:mx*(i+1)] = P2\n",
    "    P[mx*i:mx*(i+1), mx*(i+1):mx*(i+2)] = P2\n",
    "    \n",
    "P = P/2\n",
    "\n",
    "P = P[:,::2]\n",
    "#P = numpy.eye(m) + 2./3*(numpy.eye(m,k=1)+numpy.eye(m,k=-1)) + \\\n",
    "#    1./3*(numpy.eye(m,k=2)+numpy.eye(m,k=-2))\n",
    "#P = P[:,::3]\n",
    "\n",
    "pyplot.figure()\n",
    "pyplot.plot(P[:10,2:4], '-*')\n",
    "pyplot.spy(P)\n",
    "P.shape"
   ]
  },
  {
   "cell_type": "code",
   "execution_count": null,
   "metadata": {},
   "outputs": [],
   "source": [
    "pyplot.figure()\n",
    "pyplot.plot(1./2*P.dot(P.T.dot(X[:,20])), label='coarse')\n",
    "pyplot.plot(X[:,20], label='fine')\n",
    "pyplot.legend(loc='upper right')"
   ]
  },
  {
   "cell_type": "code",
   "execution_count": null,
   "metadata": {
    "scrolled": true
   },
   "outputs": [],
   "source": [
    "Ac = P.T.dot(A.dot(P))\n",
    "print(Ac.shape)\n",
    "\n",
    "Lc, Xc = numpy.linalg.eigh(Ac)\n",
    "pyplot.figure()\n",
    "pyplot.plot(Lc, '*')"
   ]
  },
  {
   "cell_type": "code",
   "execution_count": null,
   "metadata": {},
   "outputs": [],
   "source": [
    "pyplot.figure()\n",
    "pyplot.spy(Ac)\n",
    "Ac[:5,:5]"
   ]
  },
  {
   "cell_type": "code",
   "execution_count": null,
   "metadata": {
    "scrolled": true
   },
   "outputs": [],
   "source": [
    "# Consider the A-orthogonal projector into the range of P\n",
    "Sc = P.dot(numpy.linalg.inv(Ac)).dot(P.T).dot(A)\n",
    "Ls, Xs = numpy.linalg.eig(Sc)\n",
    "print(max(abs(Ls.imag)))\n",
    "Ls = Ls.real\n",
    "idx = Ls.argsort()\n",
    "Ls = Ls[idx]; Xs = Xs[:,idx]\n",
    "\n",
    "pyplot.figure()\n",
    "pyplot.plot(Ls, '.')"
   ]
  },
  {
   "cell_type": "code",
   "execution_count": null,
   "metadata": {},
   "outputs": [],
   "source": [
    "def pcjacobi(A):\n",
    "    Dinv = numpy.diag(1/A.diagonal())\n",
    "    return Dinv.dot(A)\n",
    "\n",
    "# Iteration matrix for a V(1,1) cycle\n",
    "DinvA = pcjacobi(A)\n",
    "Lt, Xt = numpy.linalg.eig((I - .67*DinvA).dot(I - Sc).dot(I - .67*DinvA))\n",
    "pyplot.figure()\n",
    "pyplot.plot(Lt.real, Lt.imag, '.')"
   ]
  },
  {
   "cell_type": "code",
   "execution_count": null,
   "metadata": {
    "collapsed": true
   },
   "outputs": [],
   "source": []
  },
  {
   "cell_type": "markdown",
   "metadata": {},
   "source": [
    "### Choices for linear multigrid\n",
    "* Smoother\n",
    "* Interpolation $P$ (coarse basis)\n",
    "* Restriction ($P^T$, or different for non-symmetric problems)\n",
    "* Coarse operator (Galerkin $P^T A P$, rediscretization)\n",
    "\n",
    "## Multigrid as factorization\n",
    "\n",
    "We can interpret factorization as a particular multigrid or domain decomposition method.\n",
    "\n",
    "We can partition an SPD matrix as\n",
    "$$J = \\begin{bmatrix} A & B^T \\\\ B & D \\end{bmatrix}$$\n",
    "and define the preconditioner by the factorization\n",
    "$$      M = \\begin{bmatrix} I & \\\\ B A^{-1} & I \\end{bmatrix}\n",
    "      \\begin{bmatrix} A &  \\\\ & S \\end{bmatrix}\n",
    "      \\begin{bmatrix} I & A^{-1}B^T \\\\  & I \\end{bmatrix}\n",
    "$$\n",
    "where $S = D - B A^{-1} B^T$.  $M$ has an inverse\n",
    "$$      M^{-1} =\n",
    "      \\begin{bmatrix} I & -A^{-1}B^T \\\\  & I \\end{bmatrix}\n",
    "      \\begin{bmatrix} A^{-1} &  \\\\ & S^{-1} \\end{bmatrix}\n",
    "      \\begin{bmatrix} I & \\\\ -B A^{-1} & I \\end{bmatrix} .\n",
    "$$\n",
    "Define the interpolation\n",
    "$$ P_f = \\begin{bmatrix} I \\\\ 0 \\end{bmatrix}, \\quad P_c = \\begin{bmatrix} -A^{-1} B^T \\\\ I \\end{bmatrix} $$ and rewrite as\n",
    "$$ M^{-1} = [P_f\\  P_c] \\begin{bmatrix} A^{-1} P_f^T \\\\ S^{-1} P_c^T \\end{bmatrix} = P_f A^{-1} P_f^T + P_c S^{-1} P_c^T.$$\n",
    "The iteration matrix is thus\n",
    "$$ I - M^{-1} J = I - P_f A^{-1} P_f^T J - P_c S^{-1} P_c^T J .$$"
   ]
  },
  {
   "cell_type": "code",
   "execution_count": null,
   "metadata": {},
   "outputs": [],
   "source": [
    "idx = numpy.concatenate((numpy.arange(0,m,2), numpy.arange(1,m,2)))\n",
    "J = A[:,idx][idx,:]\n",
    "pyplot.figure()\n",
    "pyplot.spy(J)"
   ]
  },
  {
   "cell_type": "code",
   "execution_count": null,
   "metadata": {},
   "outputs": [],
   "source": [
    "mf = m // 2 + 1\n",
    "Pf = numpy.concatenate((numpy.eye(mf), numpy.zeros((m-mf, mf))))\n",
    "Jf = Pf.T.dot(J.dot(Pf))\n",
    "Pc = numpy.concatenate((-numpy.linalg.inv(Jf).dot(J[:mf,mf:]), numpy.eye(m-mf)))\n",
    "Jc = Pc.T.dot(J.dot(Pc))\n",
    "\n",
    "DinvJ = pcjacobi(J)\n",
    "Mf = Pf.dot(numpy.linalg.inv(Jf)).dot(Pf.T)\n",
    "Mc = Pc.dot(numpy.linalg.inv(Jc)).dot(Pc.T)\n",
    "T = I - (Mf + Mc).dot(J)\n",
    "T = (I - Mf.dot(J)).dot(I - Mc.dot(J))\n",
    "#T = (I - .67*DinvJ).dot(I - Mc.dot(J))\n",
    "#T = T.dot(T)\n",
    "#T = (I - .67*DinvJ).dot(I - .67*DinvJ).dot(I - Mc.dot(J)).dot(I - .67*DinvJ)\n",
    "#T = I - .67*J - Mc.dot(J)\n",
    "Lt, Xt = numpy.linalg.eig(T)\n",
    "pyplot.figure()\n",
    "pyplot.plot(Lt.real, Lt.imag, '.')"
   ]
  },
  {
   "cell_type": "code",
   "execution_count": null,
   "metadata": {},
   "outputs": [],
   "source": [
    "# Invert the permutation\n",
    "idxinv = numpy.zeros(m, dtype=int)\n",
    "idxinv[idx] = numpy.arange(m)\n",
    "\n",
    "# Plot the coarse basis function in the original ordering\n",
    "pyplot.figure()\n",
    "pyplot.plot(Pc[:,5][idxinv], '-o')"
   ]
  },
  {
   "cell_type": "code",
   "execution_count": null,
   "metadata": {},
   "outputs": [],
   "source": [
    "M = numpy.array([[1,2],[2,1]])\n",
    "numpy.linalg.eigh(M)"
   ]
  },
  {
   "cell_type": "markdown",
   "metadata": {
    "collapsed": true
   },
   "source": [
    "# Algebraic Multigrid\n",
    "\n",
    "Factorization as a multigrid (or domain decomposition) method incurs significant cost in multiple dimensions due to lack of sparsity.  It is not feasible to choose enough coarse basis functions so that coarse basis functions that use minimum energy extensions $-A^{-1} B^T$ (see $P_c$ and the notation above) have sufficiently local support.\n",
    "\n",
    "Algebraic multigrid methods operate by specifying a coarsening algorithm and degree of sparsity, then attempting to choose good basis functions within those constraints.  Classical AMG chooses coarse points much like the factorization methods above, but restricts the support of the basis functions and uses heuristics to weight the contributions in order to approximate selected functions (like the constant).  Smoothed aggregation chooses aggregates and *tentative* basis functions $T$ on the aggregates (to reproduce the constants or other functions exactly), then uses Jacobi relaxation to compute an interpolation $P = (I - \\omega D^{-1} J)T$ which is smoother than $T$, but with correspondingly larger support.\n",
    "\n",
    "Let's examine this construction of basis functions for the 1D Laplacian."
   ]
  },
  {
   "cell_type": "code",
   "execution_count": null,
   "metadata": {},
   "outputs": [],
   "source": [
    "cfactor = 3\n",
    "agg = numpy.arange(m) // cfactor\n",
    "mc = max(agg)+1\n",
    "T = numpy.zeros((m,mc))\n",
    "T[numpy.arange(m), agg] = 1\n",
    "\n",
    "pyplot.figure()\n",
    "pyplot.plot(T[:6*cfactor,2:5])"
   ]
  },
  {
   "cell_type": "code",
   "execution_count": null,
   "metadata": {
    "scrolled": false
   },
   "outputs": [],
   "source": [
    "P = (I - .7*DinvA).dot(T)\n",
    "\n",
    "pyplot.figure()\n",
    "pyplot.plot(P[:6*cfactor,2:5])\n",
    "\n",
    "Ac = P.T.dot(A).dot(P)\n",
    "pyplot.figure()\n",
    "pyplot.plot(numpy.arange(m,step=cfactor),numpy.linalg.eigh(Ac)[0]*3, '.', label='coarse')\n",
    "pyplot.plot(numpy.arange(m),numpy.linalg.eigh(A)[0], '-', label='fine')\n",
    "pyplot.legend(loc='upper left')"
   ]
  },
  {
   "cell_type": "code",
   "execution_count": null,
   "metadata": {},
   "outputs": [],
   "source": [
    "L, X = numpy.linalg.eigh(A)\n",
    "pyplot.figure()\n",
    "for i in range(m):\n",
    "    x = X[:,i]\n",
    "    pyplot.plot(x.T.dot(A).dot(x), x.T.dot(P.dot(Ac).dot(P.T.dot(x)))/cfactor**2, '.')\n",
    "pyplot.plot(L[:20], L[:20], '-')"
   ]
  },
  {
   "cell_type": "markdown",
   "metadata": {},
   "source": [
    "* What if we use a more rapid coarsening factor?\n",
    "* What if we change the damping factor in the Jacobi smoother?\n",
    "* What if we do multiple smoothing iterations?"
   ]
  },
  {
   "cell_type": "code",
   "execution_count": null,
   "metadata": {
    "collapsed": true
   },
   "outputs": [],
   "source": []
  }
 ],
 "metadata": {
  "anaconda-cloud": {},
  "kernelspec": {
   "display_name": "Python 3",
   "language": "python",
   "name": "python3"
  },
  "language_info": {
   "codemirror_mode": {
    "name": "ipython",
    "version": 3
   },
   "file_extension": ".py",
   "mimetype": "text/x-python",
   "name": "python",
   "nbconvert_exporter": "python",
   "pygments_lexer": "ipython3",
   "version": "3.6.1"
  }
 },
 "nbformat": 4,
 "nbformat_minor": 2
}
